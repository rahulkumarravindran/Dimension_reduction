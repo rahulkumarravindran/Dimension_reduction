{
 "cells": [
  {
   "cell_type": "code",
   "execution_count": 2,
   "metadata": {},
   "outputs": [],
   "source": [
    "import pandas as pd\r\n",
    "from sklearn.preprocessing import StandardScaler "
   ]
  },
  {
   "cell_type": "code",
   "execution_count": 27,
   "metadata": {},
   "outputs": [
    {
     "name": "stdout",
     "output_type": "stream",
     "text": [
      "(3541, 220)\n",
      "6.09389656820776\n"
     ]
    }
   ],
   "source": [
    "#read the data from the original CSV \r\n",
    "data=pd.read_csv(r\"D:\\Windsor\\Fourth semester\\Applied Machine learning\\Project\\Datasets\\Datasets\\D13.csv\",header=None)\r\n",
    "\r\n",
    "#List of dimension reduced datasets\r\n",
    "DR_datasets={'Conformal Eigenmaps':r\"D:\\Windsor\\Fourth semester\\Applied Machine learning\\Project\\Code_Machine_learning\\DimensionReducedDataSet\\D13_CE.csv\",'Maximum Variance Unfolding':r\"D:\\Windsor\\Fourth semester\\Applied Machine learning\\Project\\Code_Machine_learning\\DimensionReducedDataSet\\D13_MVU.csv\", \"Landmark MVU\": r\"D:\\Windsor\\Fourth semester\\Applied Machine learning\\Project\\Code_Machine_learning\\DimensionReducedDataSet\\D13_LMVU.csv\"}\r\n",
    "\r\n",
    "#Separating the data and the labels\r\n",
    "x=data.iloc[:,:-1]\r\n",
    "y=data.iloc[:,-1:]\r\n",
    "\r\n",
    "varM=x.var().sum()\r\n"
   ]
  },
  {
   "cell_type": "code",
   "execution_count": 28,
   "metadata": {},
   "outputs": [
    {
     "name": "stdout",
     "output_type": "stream",
     "text": [
      "ev of Conformal Eigenmaps: [4.527511562095565e-05, 7.608034928670869e-07, 4.0783283115666615e-09, 2.5227908260582457e-05, 2.1109646273811292e-05, 4.787876632911432e-11, 4.305901163280504e-05, 3.078533833954496e-06, 1.5514283697094398e-09, 4.609047134363581e-05, 6.24943347057011e-10, 1.0561748005381314e-10, 4.634848329898609e-05, 7.225676420443382e-11, 6.474615146509378e-11, 4.390606545189697e-05, 2.339427450839491e-06, 5.217667670447702e-10, 3.645429460571217e-05, 9.877418590897201e-06, 1.4312451714826826e-09, 4.514266802802821e-05, 1.210489724198561e-06, 8.867174463472807e-10, 3.077537009040786e-05, 1.5559271760897658e-05, 1.033613850898564e-08] and overall ev is 0.00041623470052756025\n",
      "ev of Maximum Variance Unfolding: [0.005737342317539134, 0.001811350020018343, 3.721753981272095e-09, 0.010680658730619252, 0.00441792687250092, 1.7048198895944472e-10, 0.0067009011326724065, 0.0009942757799556272, 8.477776463060603e-10, 0.02730872825733677, 7.362928524467505e-11, 1.769777792008546e-11, 0.002144349976001348, 2.7759159650461562e-05, 1.7812477673432834e-10, 0.0023011405632925395, 0.0003832813408656716, 2.4644650633613175e-05, 0.0012009257947761596, 5.856892135730143e-05, 1.479200459387751e-11, 0.0007521195766309106, 0.0003407657132576909, 1.172491562676489e-05, 0.0002298025298460576, 4.5336503316258775e-06, 7.675613060029172e-11] and overall ev is 0.06513080500392616\n",
      "ev of Landmark MVU: [2.3462064736878644e-08, 3.612318746771689e-08, 2.8792541326461065e-07, 7.233234902620896e-08, 1.8580074019847586e-13, 1.4103047254081677e-15, 1.1652091514421214e-08, 1.3689265136132274e-09, 1.736356803706415e-07, 4.5183211209467085e-08, 3.074942752763207e-14, 1.2113961957974948e-15, 5.328232746814956e-13, 1.9128277669392663e-13] and overall ev is 6.516838673814782e-07\n"
     ]
    }
   ],
   "source": [
    "for i in DR_datasets:\r\n",
    "    #Reading the dimension Reduced dataset\r\n",
    "    #The dataset is already preprocessed, So there is no need to fill missing values or Scale\r\n",
    "    data_dr=pd.read_csv(DR_datasets[i],header=None)\r\n",
    "\r\n",
    "    #find the shape of Dimesnion Reduced dataset\r\n",
    "    (m_dr,n_dr)=data_dr.shape\r\n",
    "\r\n",
    "    #Separating the data and the labels\r\n",
    "    x_dr=data_dr.iloc[:,:-1]\r\n",
    "    y_dr=data_dr.iloc[:,-1:]\r\n",
    "\r\n",
    "    varD=x_dr.var(axis=0)\r\n",
    "\r\n",
    "    ev=varD/varM\r\n",
    "\r\n",
    "    for j in range(len(ev)):\r\n",
    "        if ev[j]>1:\r\n",
    "            ev[j]=1/ev[j]\r\n",
    "\r\n",
    "    print(\"ev of {}: {} and overall ev is {}\".format(i,list(ev),sum(ev)))"
   ]
  },
  {
   "cell_type": "code",
   "execution_count": null,
   "metadata": {},
   "outputs": [],
   "source": []
  },
  {
   "cell_type": "code",
   "execution_count": null,
   "metadata": {},
   "outputs": [],
   "source": []
  }
 ],
 "metadata": {
  "interpreter": {
   "hash": "004de6046f1b3d314f33fdb43a2dc798b2646e5600efd8df5066c8b63a00ff6d"
  },
  "kernelspec": {
   "display_name": "Python 3.8.2 64-bit",
   "name": "python3"
  },
  "language_info": {
   "codemirror_mode": {
    "name": "ipython",
    "version": 3
   },
   "file_extension": ".py",
   "mimetype": "text/x-python",
   "name": "python",
   "nbconvert_exporter": "python",
   "pygments_lexer": "ipython3",
   "version": "3.8.2"
  },
  "orig_nbformat": 4
 },
 "nbformat": 4,
 "nbformat_minor": 2
}